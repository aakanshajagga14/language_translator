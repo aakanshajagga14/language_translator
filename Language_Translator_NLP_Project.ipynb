{
 "cells": [
  {
   "cell_type": "code",
   "execution_count": 17,
   "id": "f0a694f1",
   "metadata": {},
   "outputs": [],
   "source": [
    "from tkinter import *\n",
    "from tkinter import ttk\n",
    "from googletrans import Translator , LANGUAGES\n",
    "\n",
    "root = Tk()\n",
    "root.geometry('1080x400')\n",
    "root.resizable(0,0)\n",
    "root.title(\"Language Translator by Aakansha Jagga\")\n",
    "root.config(bg = '#161853')\n",
    "\n",
    "#heading\n",
    "Label(root, text = \"LANGUAGE TRANSLATOR\", font = \"Courier 20 \", bg='#bcd4e6').pack()\n",
    "Label(root,text =\"Language Translator\", font = 'Courier 20 ', bg ='#bcd4e6' , width = '20').pack(side = 'bottom')\n",
    "\n",
    "\n",
    "\n",
    "#INPUT AND OUTPUT TEXT WIDGET\n",
    "Label(root,text =\"Enter Text\", font = 'serif 13 bold', bg ='#bcd4e6').place(x=200,y=60)\n",
    "Input_text = Text(root,font = 'Optima 10', height = 11, wrap = WORD, padx=5, pady=5, width = 60)\n",
    "Input_text.place(x=30,y = 100)\n",
    "\n",
    "\n",
    "Label(root,text =\"Output\", font = 'serif 13 bold', bg ='#bcd4e6').place(x=780,y=60)\n",
    "Output_text = Text(root,font = 'serif 10', height = 11, wrap = WORD, padx=5, pady= 5, width =60)\n",
    "Output_text.place(x = 600 , y = 100)\n",
    " \n",
    "\n",
    "\n",
    "##################\n",
    "language = list(LANGUAGES.values())\n",
    "\n",
    "src_lang = ttk.Combobox(root, values= language, width =22)\n",
    "src_lang.place(x=20,y=60)\n",
    "src_lang.set('choose input language')\n",
    "\n",
    "dest_lang = ttk.Combobox(root, values= language, width =22)\n",
    "dest_lang.place(x=890,y=60)\n",
    "dest_lang.set('choose output language')\n",
    "########################################  Define function #######\n",
    "\n",
    "def Translate():\n",
    "    translator = Translator()\n",
    "    translated=translator.translate(text= Input_text.get(1.0, END) , src = src_lang.get(), dest = dest_lang.get())\n",
    "    Output_text.delete(1.0, END)\n",
    "    Output_text.insert(END, translated.text)\n",
    "   \n",
    "\n",
    "\n",
    "\n",
    "##########  Translate Button ########\n",
    "trans_btn = Button(root, text = 'Translate',font = 'Courier 12',pady = 5,command = Translate , bg = '#EC255A', activebackground = 'sky blue')\n",
    "trans_btn.place(x = 480, y = 180)\n",
    "\n",
    "\n",
    "root.mainloop()"
   ]
  },
  {
   "cell_type": "code",
   "execution_count": null,
   "id": "d4fab43a",
   "metadata": {},
   "outputs": [],
   "source": []
  }
 ],
 "metadata": {
  "kernelspec": {
   "display_name": "Python 3 (ipykernel)",
   "language": "python",
   "name": "python3"
  },
  "language_info": {
   "codemirror_mode": {
    "name": "ipython",
    "version": 3
   },
   "file_extension": ".py",
   "mimetype": "text/x-python",
   "name": "python",
   "nbconvert_exporter": "python",
   "pygments_lexer": "ipython3",
   "version": "3.9.7"
  }
 },
 "nbformat": 4,
 "nbformat_minor": 5
}
